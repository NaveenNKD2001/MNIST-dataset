{
 "cells": [
  {
   "cell_type": "code",
   "execution_count": 1,
   "id": "4526ef70",
   "metadata": {},
   "outputs": [],
   "source": [
    "import numpy as np\n",
    "import pandas as pd\n",
    "import joblib"
   ]
  },
  {
   "cell_type": "code",
   "execution_count": 2,
   "id": "075b4ea2",
   "metadata": {},
   "outputs": [],
   "source": [
    "train_df=pd.read_csv('mnist_train_dataset.csv')\n",
    "test_df=pd.read_csv('mnist_test_dataset.csv')"
   ]
  },
  {
   "cell_type": "code",
   "execution_count": 3,
   "id": "2d8dee6e",
   "metadata": {},
   "outputs": [
    {
     "data": {
      "text/html": [
       "<div>\n",
       "<style scoped>\n",
       "    .dataframe tbody tr th:only-of-type {\n",
       "        vertical-align: middle;\n",
       "    }\n",
       "\n",
       "    .dataframe tbody tr th {\n",
       "        vertical-align: top;\n",
       "    }\n",
       "\n",
       "    .dataframe thead th {\n",
       "        text-align: right;\n",
       "    }\n",
       "</style>\n",
       "<table border=\"1\" class=\"dataframe\">\n",
       "  <thead>\n",
       "    <tr style=\"text-align: right;\">\n",
       "      <th></th>\n",
       "      <th>label</th>\n",
       "      <th>1x1</th>\n",
       "      <th>1x2</th>\n",
       "      <th>1x3</th>\n",
       "      <th>1x4</th>\n",
       "      <th>1x5</th>\n",
       "      <th>1x6</th>\n",
       "      <th>1x7</th>\n",
       "      <th>1x8</th>\n",
       "      <th>1x9</th>\n",
       "      <th>...</th>\n",
       "      <th>28x19</th>\n",
       "      <th>28x20</th>\n",
       "      <th>28x21</th>\n",
       "      <th>28x22</th>\n",
       "      <th>28x23</th>\n",
       "      <th>28x24</th>\n",
       "      <th>28x25</th>\n",
       "      <th>28x26</th>\n",
       "      <th>28x27</th>\n",
       "      <th>28x28</th>\n",
       "    </tr>\n",
       "  </thead>\n",
       "  <tbody>\n",
       "    <tr>\n",
       "      <th>0</th>\n",
       "      <td>5</td>\n",
       "      <td>0</td>\n",
       "      <td>0</td>\n",
       "      <td>0</td>\n",
       "      <td>0</td>\n",
       "      <td>0</td>\n",
       "      <td>0</td>\n",
       "      <td>0</td>\n",
       "      <td>0</td>\n",
       "      <td>0</td>\n",
       "      <td>...</td>\n",
       "      <td>0</td>\n",
       "      <td>0</td>\n",
       "      <td>0</td>\n",
       "      <td>0</td>\n",
       "      <td>0</td>\n",
       "      <td>0</td>\n",
       "      <td>0</td>\n",
       "      <td>0</td>\n",
       "      <td>0</td>\n",
       "      <td>0</td>\n",
       "    </tr>\n",
       "    <tr>\n",
       "      <th>1</th>\n",
       "      <td>0</td>\n",
       "      <td>0</td>\n",
       "      <td>0</td>\n",
       "      <td>0</td>\n",
       "      <td>0</td>\n",
       "      <td>0</td>\n",
       "      <td>0</td>\n",
       "      <td>0</td>\n",
       "      <td>0</td>\n",
       "      <td>0</td>\n",
       "      <td>...</td>\n",
       "      <td>0</td>\n",
       "      <td>0</td>\n",
       "      <td>0</td>\n",
       "      <td>0</td>\n",
       "      <td>0</td>\n",
       "      <td>0</td>\n",
       "      <td>0</td>\n",
       "      <td>0</td>\n",
       "      <td>0</td>\n",
       "      <td>0</td>\n",
       "    </tr>\n",
       "    <tr>\n",
       "      <th>2</th>\n",
       "      <td>4</td>\n",
       "      <td>0</td>\n",
       "      <td>0</td>\n",
       "      <td>0</td>\n",
       "      <td>0</td>\n",
       "      <td>0</td>\n",
       "      <td>0</td>\n",
       "      <td>0</td>\n",
       "      <td>0</td>\n",
       "      <td>0</td>\n",
       "      <td>...</td>\n",
       "      <td>0</td>\n",
       "      <td>0</td>\n",
       "      <td>0</td>\n",
       "      <td>0</td>\n",
       "      <td>0</td>\n",
       "      <td>0</td>\n",
       "      <td>0</td>\n",
       "      <td>0</td>\n",
       "      <td>0</td>\n",
       "      <td>0</td>\n",
       "    </tr>\n",
       "    <tr>\n",
       "      <th>3</th>\n",
       "      <td>1</td>\n",
       "      <td>0</td>\n",
       "      <td>0</td>\n",
       "      <td>0</td>\n",
       "      <td>0</td>\n",
       "      <td>0</td>\n",
       "      <td>0</td>\n",
       "      <td>0</td>\n",
       "      <td>0</td>\n",
       "      <td>0</td>\n",
       "      <td>...</td>\n",
       "      <td>0</td>\n",
       "      <td>0</td>\n",
       "      <td>0</td>\n",
       "      <td>0</td>\n",
       "      <td>0</td>\n",
       "      <td>0</td>\n",
       "      <td>0</td>\n",
       "      <td>0</td>\n",
       "      <td>0</td>\n",
       "      <td>0</td>\n",
       "    </tr>\n",
       "    <tr>\n",
       "      <th>4</th>\n",
       "      <td>9</td>\n",
       "      <td>0</td>\n",
       "      <td>0</td>\n",
       "      <td>0</td>\n",
       "      <td>0</td>\n",
       "      <td>0</td>\n",
       "      <td>0</td>\n",
       "      <td>0</td>\n",
       "      <td>0</td>\n",
       "      <td>0</td>\n",
       "      <td>...</td>\n",
       "      <td>0</td>\n",
       "      <td>0</td>\n",
       "      <td>0</td>\n",
       "      <td>0</td>\n",
       "      <td>0</td>\n",
       "      <td>0</td>\n",
       "      <td>0</td>\n",
       "      <td>0</td>\n",
       "      <td>0</td>\n",
       "      <td>0</td>\n",
       "    </tr>\n",
       "  </tbody>\n",
       "</table>\n",
       "<p>5 rows × 785 columns</p>\n",
       "</div>"
      ],
      "text/plain": [
       "   label  1x1  1x2  1x3  1x4  1x5  1x6  1x7  1x8  1x9  ...  28x19  28x20  \\\n",
       "0      5    0    0    0    0    0    0    0    0    0  ...      0      0   \n",
       "1      0    0    0    0    0    0    0    0    0    0  ...      0      0   \n",
       "2      4    0    0    0    0    0    0    0    0    0  ...      0      0   \n",
       "3      1    0    0    0    0    0    0    0    0    0  ...      0      0   \n",
       "4      9    0    0    0    0    0    0    0    0    0  ...      0      0   \n",
       "\n",
       "   28x21  28x22  28x23  28x24  28x25  28x26  28x27  28x28  \n",
       "0      0      0      0      0      0      0      0      0  \n",
       "1      0      0      0      0      0      0      0      0  \n",
       "2      0      0      0      0      0      0      0      0  \n",
       "3      0      0      0      0      0      0      0      0  \n",
       "4      0      0      0      0      0      0      0      0  \n",
       "\n",
       "[5 rows x 785 columns]"
      ]
     },
     "execution_count": 3,
     "metadata": {},
     "output_type": "execute_result"
    }
   ],
   "source": [
    "train_df.head()"
   ]
  },
  {
   "cell_type": "code",
   "execution_count": 4,
   "id": "ae7cd3b5",
   "metadata": {},
   "outputs": [],
   "source": [
    "a=train_df.iloc[1,1:]"
   ]
  },
  {
   "cell_type": "code",
   "execution_count": 5,
   "id": "e55ced84",
   "metadata": {
    "scrolled": true
   },
   "outputs": [
    {
     "data": {
      "text/plain": [
       "1x1      0\n",
       "1x2      0\n",
       "1x3      0\n",
       "1x4      0\n",
       "1x5      0\n",
       "        ..\n",
       "28x24    0\n",
       "28x25    0\n",
       "28x26    0\n",
       "28x27    0\n",
       "28x28    0\n",
       "Name: 1, Length: 784, dtype: int64"
      ]
     },
     "execution_count": 5,
     "metadata": {},
     "output_type": "execute_result"
    }
   ],
   "source": [
    "a"
   ]
  },
  {
   "cell_type": "code",
   "execution_count": 6,
   "id": "7c64d22c",
   "metadata": {},
   "outputs": [],
   "source": [
    "img=np.reshape(a,(28,28))"
   ]
  },
  {
   "cell_type": "code",
   "execution_count": 7,
   "id": "75672ded",
   "metadata": {},
   "outputs": [
    {
     "data": {
      "image/png": "[encoded data removed]",
      "text/plain": [
       "<Figure size 640x480 with 1 Axes>"
      ]
     },
     "metadata": {},
     "output_type": "display_data"
    }
   ],
   "source": [
    "from matplotlib import pyplot as plt\n",
    "plt.imshow(img)\n",
    "plt.show()"
   ]
  },
  {
   "cell_type": "code",
   "execution_count": 8,
   "id": "6e96253a",
   "metadata": {},
   "outputs": [],
   "source": [
    "x_tr=train_df.iloc[:,1:].values\n",
    "y_tr=train_df['label'].values"
   ]
  },
  {
   "cell_type": "code",
   "execution_count": 9,
   "id": "e6008651",
   "metadata": {},
   "outputs": [],
   "source": [
    "x_te=test_df.iloc[:,1:].values\n",
    "y_te=test_df['label'].values"
   ]
  },
  {
   "cell_type": "code",
   "execution_count": 10,
   "id": "ef74b447",
   "metadata": {},
   "outputs": [],
   "source": [
    "from sklearn.linear_model import LogisticRegression\n",
    "from sklearn.metrics import accuracy_score\n",
    "from sklearn.neighbors import KNeighborsClassifier\n",
    "from sklearn.model_selection import GridSearchCV\n",
    "from sklearn.naive_bayes import GaussianNB\n",
    "from sklearn.svm import SVC\n",
    "from sklearn.tree import DecisionTreeClassifier\n",
    "from sklearn.ensemble import RandomForestClassifier"
   ]
  },
  {
   "cell_type": "code",
   "execution_count": 11,
   "id": "e27698b7",
   "metadata": {},
   "outputs": [],
   "source": [
    "def logistic_regression():\n",
    "    model_LR=LogisticRegression()\n",
    "    model_LR.fit(x_tr,y_tr)\n",
    "    y_pred=model_LR.predict(x_te)\n",
    "    joblib.dump(model_LR,'models/model_LR.joblib')\n",
    "    print(\"Accuracy score of Logistic Regression is\",accuracy_score(y_pred,y_te)*100)"
   ]
  },
  {
   "cell_type": "code",
   "execution_count": 12,
   "id": "46a893fc",
   "metadata": {},
   "outputs": [
    {
     "name": "stdout",
     "output_type": "stream",
     "text": [
      "Accuracy score of Logistic Regression is 92.55\n"
     ]
    },
    {
     "name": "stderr",
     "output_type": "stream",
     "text": [
      "C:\\Users\\navee\\anaconda3\\Lib\\site-packages\\sklearn\\linear_model\\_logistic.py:460: ConvergenceWarning: lbfgs failed to converge (status=1):\n",
      "STOP: TOTAL NO. of ITERATIONS REACHED LIMIT.\n",
      "\n",
      "Increase the number of iterations (max_iter) or scale the data as shown in:\n",
      "    https://scikit-learn.org/stable/modules/preprocessing.html\n",
      "Please also refer to the documentation for alternative solver options:\n",
      "    https://scikit-learn.org/stable/modules/linear_model.html#logistic-regression\n",
      "  n_iter_i = _check_optimize_result(\n"
     ]
    }
   ],
   "source": [
    "logistic_regression()"
   ]
  },
  {
   "cell_type": "code",
   "execution_count": 15,
   "id": "8a104087",
   "metadata": {},
   "outputs": [],
   "source": [
    "def knn():\n",
    "    model_KNN=KNeighborsClassifier(n_neighbors=3)\n",
    "    params=[{'n_neighbors':list(range(2,8))}]\n",
    "    model_knn_cv = GridSearchCV(model_KNN,params,cv=5,scoring='accuracy')\n",
    "    model_knn_cv.fit(x_tr,y_tr)\n",
    "    y_pred=model_knn_cv.predict(x_te)\n",
    "    joblib.dump(model_knn_cv,'models/model_knn.joblib')\n",
    "    print(\"Accuracy score of K Neigbors classifier is\",accuracy_score(y_pred,y_te)*100)"
   ]
  },
  {
   "cell_type": "code",
   "execution_count": 16,
   "id": "007ab327",
   "metadata": {},
   "outputs": [
    {
     "name": "stdout",
     "output_type": "stream",
     "text": [
      "Accuracy score of K Neigbors classifier is 97.05\n"
     ]
    }
   ],
   "source": [
    "knn()"
   ]
  },
  {
   "cell_type": "code",
   "execution_count": 19,
   "id": "3a45fde4",
   "metadata": {},
   "outputs": [],
   "source": [
    "def naive_bayes():\n",
    "    model_NB=GaussianNB()\n",
    "    model_NB.fit(x_tr,y_tr)\n",
    "    y_pred=model_NB.predict(x_te)\n",
    "    joblib.dump(model_NB,'models/model_NB.joblib')\n",
    "    print(\"Accuracy of Naive Bayes Classifier is\",accuracy_score(y_te,y_pred))"
   ]
  },
  {
   "cell_type": "code",
   "execution_count": 20,
   "id": "f5b934f6",
   "metadata": {},
   "outputs": [
    {
     "name": "stdout",
     "output_type": "stream",
     "text": [
      "Accuracy of Naive Bayes Classifier is 0.5558\n"
     ]
    }
   ],
   "source": [
    "naive_bayes()"
   ]
  },
  {
   "cell_type": "code",
   "execution_count": 21,
   "id": "75a42373",
   "metadata": {},
   "outputs": [],
   "source": [
    "def svc():\n",
    "    model_svm=SVC(kernel='rbf')\n",
    "    model_svm.fit(x_tr,y_tr)\n",
    "    y_pred=model_svm.predict(x_te)\n",
    "    joblib.dump(model_svm,'models/model_svm.joblib')\n",
    "    print(\"Accuracy of SVM model is\",accuracy_score(y_te,y_pred)*100)"
   ]
  },
  {
   "cell_type": "code",
   "execution_count": 22,
   "id": "3af03c51",
   "metadata": {},
   "outputs": [
    {
     "name": "stdout",
     "output_type": "stream",
     "text": [
      "Accuracy of SVM model is 97.92\n"
     ]
    }
   ],
   "source": [
    "svc()"
   ]
  },
  {
   "cell_type": "code",
   "execution_count": 23,
   "id": "216a6d65",
   "metadata": {},
   "outputs": [],
   "source": [
    "from sklearn.tree import DecisionTreeClassifier\n",
    "def decision_tree():\n",
    "    model_dt=DecisionTreeClassifier(max_depth=5,criterion='gini')\n",
    "    params=[{'max_depth':list(range(2,12)),'criterion':['gini','entropy']}]\n",
    "    model_dt_cv=GridSearchCV(model_dt,params,cv=10,scoring='accuracy')\n",
    "    model_dt_cv.fit(x_tr,y_tr)\n",
    "    y_pred=model_dt_cv.predict(x_te)\n",
    "    joblib.dump(model_dt_cv,'models/model_dt_cv.joblib')\n",
    "    print(\"Accuracy of Decision tree model is\",accuracy_score(y_te,y_pred)*100)"
   ]
  },
  {
   "cell_type": "code",
   "execution_count": 24,
   "id": "034c1113",
   "metadata": {},
   "outputs": [
    {
     "name": "stdout",
     "output_type": "stream",
     "text": [
      "Accuracy of Decision tree model is 88.01\n"
     ]
    }
   ],
   "source": [
    "decision_tree()"
   ]
  },
  {
   "cell_type": "code",
   "execution_count": 25,
   "id": "b42ac9cf",
   "metadata": {},
   "outputs": [],
   "source": [
    "from sklearn.ensemble import RandomForestClassifier\n",
    "def random_forest():\n",
    "    model_rf=RandomForestClassifier(max_depth=6,n_estimators=10)\n",
    "    params=[{'max_depth':list(range(2,10)),'n_estimators':[10,20,30,40,50]}]\n",
    "    model_rf_cv=GridSearchCV(model_rf,params,cv=10,scoring='accuracy')\n",
    "    model_rf_cv.fit(x_tr,y_tr)\n",
    "    y_pred=model_rf_cv.predict(x_te)\n",
    "    joblib.dump(model_rf_cv,'models/model_rf_cv.joblib')\n",
    "    print(\"Accuracy of Random Forest is\",accuracy_score(y_te,y_pred)*100)"
   ]
  },
  {
   "cell_type": "code",
   "execution_count": 26,
   "id": "95166856",
   "metadata": {},
   "outputs": [
    {
     "name": "stdout",
     "output_type": "stream",
     "text": [
      "Accuracy of Random Forest is 93.76\n"
     ]
    }
   ],
   "source": [
    "random_forest()"
   ]
  },
  {
   "cell_type": "code",
   "execution_count": 27,
   "id": "1e78a30b",
   "metadata": {},
   "outputs": [
    {
     "name": "stdout",
     "output_type": "stream",
     "text": [
      "WARNING:tensorflow:From C:\\Users\\navee\\anaconda3\\Lib\\site-packages\\keras\\src\\losses.py:2976: The name tf.losses.sparse_softmax_cross_entropy is deprecated. Please use tf.compat.v1.losses.sparse_softmax_cross_entropy instead.\n",
      "\n"
     ]
    }
   ],
   "source": [
    "import tensorflow as tf"
   ]
  },
  {
   "cell_type": "code",
   "execution_count": 32,
   "id": "f7648ba4",
   "metadata": {},
   "outputs": [],
   "source": [
    "def ann():\n",
    "    model_ann=tf.keras.models.Sequential()\n",
    "    model_ann.add(tf.keras.layers.Dense(units=500,activation='relu'))\n",
    "    model_ann.add(tf.keras.layers.Dense(units=300,activation='relu'))\n",
    "    model_ann.add(tf.keras.layers.Dense(units=100,activation='relu'))\n",
    "    model_ann.add(tf.keras.layers.Dense(units=50,activation='relu'))\n",
    "    model_ann.add(tf.keras.layers.Dense(units=10,activation='softmax'))\n",
    "    model_ann.compile(optimizer='adam',loss='categorical_crossentropy',metrics=['accuracy'])\n",
    "    y_tr_oh=tf.keras.utils.to_categorical(y_tr,num_classes=10)\n",
    "    model_ann.fit(x_tr,y_tr_oh,batch_size=200,epochs=100)\n",
    "    y_pred=model_ann.predict(x_te)\n",
    "    y_pred=np.argmax(y_pred,axis=1)\n",
    "    joblib.dump(model_ann,'models/model_ann.joblib')\n",
    "    print(\"Accuracy score is\",accuracy_score(y_te,y_pred)*100)\n",
    "#     tensor = tf.convert_to_tensor([input], dtype=tf.float32)\n",
    "#     print(\"Predicted label for the input is\",np.argmax(model_ann.predict(tensor),axis=1))"
   ]
  },
  {
   "cell_type": "code",
   "execution_count": 33,
   "id": "ac3ef996",
   "metadata": {},
   "outputs": [
    {
     "name": "stdout",
     "output_type": "stream",
     "text": [
      "Epoch 1/100\n",
      "300/300 [==============================] - 5s 12ms/step - loss: 1.7702 - accuracy: 0.8733\n",
      "Epoch 2/100\n",
      "300/300 [==============================] - 4s 14ms/step - loss: 0.1879 - accuracy: 0.9523\n",
      "Epoch 3/100\n",
      "300/300 [==============================] - 4s 14ms/step - loss: 0.1069 - accuracy: 0.9691\n",
      "Epoch 4/100\n",
      "300/300 [==============================] - 4s 14ms/step - loss: 0.0775 - accuracy: 0.9769\n",
      "Epoch 5/100\n",
      "300/300 [==============================] - 4s 14ms/step - loss: 0.0614 - accuracy: 0.9819\n",
      "Epoch 6/100\n",
      "300/300 [==============================] - 4s 13ms/step - loss: 0.0426 - accuracy: 0.9870\n",
      "Epoch 7/100\n",
      "300/300 [==============================] - 4s 13ms/step - loss: 0.0484 - accuracy: 0.9852\n",
      "Epoch 8/100\n",
      "300/300 [==============================] - 4s 13ms/step - loss: 0.0553 - accuracy: 0.9837\n",
      "Epoch 9/100\n",
      "300/300 [==============================] - 4s 13ms/step - loss: 0.0512 - accuracy: 0.9842\n",
      "Epoch 10/100\n",
      "300/300 [==============================] - 4s 12ms/step - loss: 0.0395 - accuracy: 0.9884\n",
      "Epoch 11/100\n",
      "300/300 [==============================] - 4s 13ms/step - loss: 0.0454 - accuracy: 0.9865\n",
      "Epoch 12/100\n",
      "300/300 [==============================] - 4s 15ms/step - loss: 0.0551 - accuracy: 0.9844\n",
      "Epoch 13/100\n",
      "300/300 [==============================] - 5s 15ms/step - loss: 0.0462 - accuracy: 0.9866\n",
      "Epoch 14/100\n",
      "300/300 [==============================] - 4s 15ms/step - loss: 0.0356 - accuracy: 0.9894\n",
      "Epoch 15/100\n",
      "300/300 [==============================] - 4s 15ms/step - loss: 0.0390 - accuracy: 0.9885\n",
      "Epoch 16/100\n",
      "300/300 [==============================] - 4s 13ms/step - loss: 0.0374 - accuracy: 0.9892\n",
      "Epoch 17/100\n",
      "300/300 [==============================] - 4s 14ms/step - loss: 0.0324 - accuracy: 0.9902\n",
      "Epoch 18/100\n",
      "300/300 [==============================] - 4s 14ms/step - loss: 0.0329 - accuracy: 0.9912\n",
      "Epoch 19/100\n",
      "300/300 [==============================] - 4s 14ms/step - loss: 0.0321 - accuracy: 0.9911\n",
      "Epoch 20/100\n",
      "300/300 [==============================] - 4s 14ms/step - loss: 0.0336 - accuracy: 0.9902\n",
      "Epoch 21/100\n",
      "300/300 [==============================] - 4s 13ms/step - loss: 0.0345 - accuracy: 0.9906\n",
      "Epoch 22/100\n",
      "300/300 [==============================] - 4s 13ms/step - loss: 0.0200 - accuracy: 0.9939\n",
      "Epoch 23/100\n",
      "300/300 [==============================] - 4s 13ms/step - loss: 0.0366 - accuracy: 0.9903\n",
      "Epoch 24/100\n",
      "300/300 [==============================] - 4s 13ms/step - loss: 0.0329 - accuracy: 0.9909\n",
      "Epoch 25/100\n",
      "300/300 [==============================] - 4s 13ms/step - loss: 0.0260 - accuracy: 0.9930\n",
      "Epoch 26/100\n",
      "300/300 [==============================] - 4s 14ms/step - loss: 0.0236 - accuracy: 0.9930\n",
      "Epoch 27/100\n",
      "300/300 [==============================] - 4s 14ms/step - loss: 0.0201 - accuracy: 0.9944\n",
      "Epoch 28/100\n",
      "300/300 [==============================] - 4s 14ms/step - loss: 0.0215 - accuracy: 0.9941\n",
      "Epoch 29/100\n",
      "300/300 [==============================] - 4s 14ms/step - loss: 0.0211 - accuracy: 0.9937\n",
      "Epoch 30/100\n",
      "300/300 [==============================] - 4s 14ms/step - loss: 0.0260 - accuracy: 0.9930\n",
      "Epoch 31/100\n",
      "300/300 [==============================] - 4s 14ms/step - loss: 0.0131 - accuracy: 0.9963\n",
      "Epoch 32/100\n",
      "300/300 [==============================] - 4s 14ms/step - loss: 0.0215 - accuracy: 0.9934\n",
      "Epoch 33/100\n",
      "300/300 [==============================] - 4s 14ms/step - loss: 0.0146 - accuracy: 0.9957\n",
      "Epoch 34/100\n",
      "300/300 [==============================] - 4s 14ms/step - loss: 0.0212 - accuracy: 0.9947\n",
      "Epoch 35/100\n",
      "300/300 [==============================] - 4s 14ms/step - loss: 0.0154 - accuracy: 0.9960\n",
      "Epoch 36/100\n",
      "300/300 [==============================] - 4s 14ms/step - loss: 0.0179 - accuracy: 0.9952\n",
      "Epoch 37/100\n",
      "300/300 [==============================] - 4s 14ms/step - loss: 0.0180 - accuracy: 0.9949\n",
      "Epoch 38/100\n",
      "300/300 [==============================] - 4s 15ms/step - loss: 0.0162 - accuracy: 0.9955\n",
      "Epoch 39/100\n",
      "300/300 [==============================] - 4s 14ms/step - loss: 0.0166 - accuracy: 0.9955\n",
      "Epoch 40/100\n",
      "300/300 [==============================] - 4s 15ms/step - loss: 0.0129 - accuracy: 0.9966\n",
      "Epoch 41/100\n",
      "300/300 [==============================] - 4s 14ms/step - loss: 0.0116 - accuracy: 0.9968\n",
      "Epoch 42/100\n",
      "300/300 [==============================] - 4s 13ms/step - loss: 0.0137 - accuracy: 0.9963\n",
      "Epoch 43/100\n",
      "300/300 [==============================] - 4s 14ms/step - loss: 0.0119 - accuracy: 0.9971\n",
      "Epoch 44/100\n",
      "300/300 [==============================] - 4s 13ms/step - loss: 0.0125 - accuracy: 0.9966\n",
      "Epoch 45/100\n",
      "300/300 [==============================] - 4s 13ms/step - loss: 0.0126 - accuracy: 0.9966\n",
      "Epoch 46/100\n",
      "300/300 [==============================] - 4s 13ms/step - loss: 0.0135 - accuracy: 0.9966\n",
      "Epoch 47/100\n",
      "300/300 [==============================] - 4s 14ms/step - loss: 0.0148 - accuracy: 0.9961\n",
      "Epoch 48/100\n",
      "300/300 [==============================] - 4s 14ms/step - loss: 0.0144 - accuracy: 0.9965\n",
      "Epoch 49/100\n",
      "300/300 [==============================] - 4s 13ms/step - loss: 0.0128 - accuracy: 0.9969\n",
      "Epoch 50/100\n",
      "300/300 [==============================] - 4s 14ms/step - loss: 0.0130 - accuracy: 0.9967\n",
      "Epoch 51/100\n",
      "300/300 [==============================] - 4s 14ms/step - loss: 0.0125 - accuracy: 0.9970\n",
      "Epoch 52/100\n",
      "300/300 [==============================] - 4s 13ms/step - loss: 0.0073 - accuracy: 0.9980\n",
      "Epoch 53/100\n",
      "300/300 [==============================] - 4s 13ms/step - loss: 0.0124 - accuracy: 0.9969\n",
      "Epoch 54/100\n",
      "300/300 [==============================] - 4s 14ms/step - loss: 0.0069 - accuracy: 0.9981\n",
      "Epoch 55/100\n",
      "300/300 [==============================] - 4s 13ms/step - loss: 0.0103 - accuracy: 0.9973\n",
      "Epoch 56/100\n",
      "300/300 [==============================] - 4s 14ms/step - loss: 0.0110 - accuracy: 0.9970\n",
      "Epoch 57/100\n",
      "300/300 [==============================] - 4s 13ms/step - loss: 0.0071 - accuracy: 0.9981\n",
      "Epoch 58/100\n",
      "300/300 [==============================] - 4s 13ms/step - loss: 0.0122 - accuracy: 0.9971\n",
      "Epoch 59/100\n",
      "300/300 [==============================] - 4s 13ms/step - loss: 0.0087 - accuracy: 0.9979\n",
      "Epoch 60/100\n",
      "300/300 [==============================] - 4s 13ms/step - loss: 0.0118 - accuracy: 0.9972\n",
      "Epoch 61/100\n",
      "300/300 [==============================] - 4s 13ms/step - loss: 0.0046 - accuracy: 0.9987\n",
      "Epoch 62/100\n",
      "300/300 [==============================] - 4s 13ms/step - loss: 0.0106 - accuracy: 0.9974\n",
      "Epoch 63/100\n",
      "300/300 [==============================] - 4s 13ms/step - loss: 0.0072 - accuracy: 0.9981\n",
      "Epoch 64/100\n",
      "300/300 [==============================] - 4s 13ms/step - loss: 0.0044 - accuracy: 0.9989\n",
      "Epoch 65/100\n",
      "300/300 [==============================] - 4s 14ms/step - loss: 0.0046 - accuracy: 0.9989\n",
      "Epoch 66/100\n",
      "300/300 [==============================] - 4s 14ms/step - loss: 0.0117 - accuracy: 0.9974\n",
      "Epoch 67/100\n",
      "300/300 [==============================] - 4s 13ms/step - loss: 0.0130 - accuracy: 0.9970\n",
      "Epoch 68/100\n",
      "300/300 [==============================] - 4s 14ms/step - loss: 0.0090 - accuracy: 0.9977\n",
      "Epoch 69/100\n",
      "300/300 [==============================] - 4s 13ms/step - loss: 0.0098 - accuracy: 0.9979\n",
      "Epoch 70/100\n",
      "300/300 [==============================] - 4s 13ms/step - loss: 0.0057 - accuracy: 0.9987\n",
      "Epoch 71/100\n",
      "300/300 [==============================] - 4s 13ms/step - loss: 0.0046 - accuracy: 0.9989\n",
      "Epoch 72/100\n",
      "300/300 [==============================] - 4s 13ms/step - loss: 0.0060 - accuracy: 0.9987\n",
      "Epoch 73/100\n",
      "300/300 [==============================] - 4s 14ms/step - loss: 0.0060 - accuracy: 0.9987\n",
      "Epoch 74/100\n",
      "300/300 [==============================] - 4s 14ms/step - loss: 0.0071 - accuracy: 0.9987\n",
      "Epoch 75/100\n",
      "300/300 [==============================] - 4s 14ms/step - loss: 0.0104 - accuracy: 0.9977\n",
      "Epoch 76/100\n",
      "300/300 [==============================] - 4s 14ms/step - loss: 0.0089 - accuracy: 0.9980\n",
      "Epoch 77/100\n",
      "300/300 [==============================] - 4s 13ms/step - loss: 0.0076 - accuracy: 0.9983\n",
      "Epoch 78/100\n",
      "300/300 [==============================] - 4s 12ms/step - loss: 0.0041 - accuracy: 0.9989\n",
      "Epoch 79/100\n",
      "300/300 [==============================] - 4s 13ms/step - loss: 0.0060 - accuracy: 0.9985\n",
      "Epoch 80/100\n",
      "300/300 [==============================] - 4s 13ms/step - loss: 0.0087 - accuracy: 0.9979\n",
      "Epoch 81/100\n",
      "300/300 [==============================] - 4s 13ms/step - loss: 0.0082 - accuracy: 0.9983\n",
      "Epoch 82/100\n",
      "300/300 [==============================] - 4s 13ms/step - loss: 0.0094 - accuracy: 0.9980\n",
      "Epoch 83/100\n",
      "300/300 [==============================] - 4s 13ms/step - loss: 0.0052 - accuracy: 0.9989\n",
      "Epoch 84/100\n",
      "300/300 [==============================] - 4s 12ms/step - loss: 0.0071 - accuracy: 0.9984\n",
      "Epoch 85/100\n",
      "300/300 [==============================] - 4s 14ms/step - loss: 0.0072 - accuracy: 0.9985\n",
      "Epoch 86/100\n",
      "300/300 [==============================] - 4s 12ms/step - loss: 0.0112 - accuracy: 0.9978\n",
      "Epoch 87/100\n",
      "300/300 [==============================] - 4s 13ms/step - loss: 0.0084 - accuracy: 0.9980\n",
      "Epoch 88/100\n",
      "300/300 [==============================] - 4s 13ms/step - loss: 0.0069 - accuracy: 0.9986\n",
      "Epoch 89/100\n",
      "300/300 [==============================] - 4s 13ms/step - loss: 0.0041 - accuracy: 0.9993\n",
      "Epoch 90/100\n",
      "300/300 [==============================] - 4s 13ms/step - loss: 0.0118 - accuracy: 0.9976\n",
      "Epoch 91/100\n",
      "300/300 [==============================] - 4s 13ms/step - loss: 0.0065 - accuracy: 0.9987\n",
      "Epoch 92/100\n",
      "300/300 [==============================] - 4s 13ms/step - loss: 0.0052 - accuracy: 0.9987\n",
      "Epoch 93/100\n",
      "300/300 [==============================] - 4s 13ms/step - loss: 0.0089 - accuracy: 0.9983\n",
      "Epoch 94/100\n",
      "300/300 [==============================] - 4s 13ms/step - loss: 0.0020 - accuracy: 0.9996\n",
      "Epoch 95/100\n",
      "300/300 [==============================] - 4s 13ms/step - loss: 0.0044 - accuracy: 0.9991\n",
      "Epoch 96/100\n",
      "300/300 [==============================] - 4s 13ms/step - loss: 0.0023 - accuracy: 0.9995\n",
      "Epoch 97/100\n",
      "300/300 [==============================] - 4s 13ms/step - loss: 2.3644e-04 - accuracy: 0.9999\n",
      "Epoch 98/100\n",
      "300/300 [==============================] - 4s 13ms/step - loss: 0.0110 - accuracy: 0.9977\n",
      "Epoch 99/100\n",
      "300/300 [==============================] - 4s 13ms/step - loss: 0.0102 - accuracy: 0.9983\n",
      "Epoch 100/100\n",
      "300/300 [==============================] - 4s 13ms/step - loss: 0.0117 - accuracy: 0.9976\n",
      "313/313 [==============================] - 1s 3ms/step\n",
      "Accuracy score is 98.1\n"
     ]
    }
   ],
   "source": [
    "ann()"
   ]
  },
  {
   "cell_type": "code",
   "execution_count": null,
   "id": "dc6c56f1",
   "metadata": {},
   "outputs": [],
   "source": []
  }
 ],
 "metadata": {
  "kernelspec": {
   "display_name": "Python 3 (ipykernel)",
   "language": "python",
   "name": "python3"
  },
  "language_info": {
   "codemirror_mode": {
    "name": "ipython",
    "version": 3
   },
   "file_extension": ".py",
   "mimetype": "text/x-python",
   "name": "python",
   "nbconvert_exporter": "python",
   "pygments_lexer": "ipython3",
   "version": "3.11.5"
  }
 },
 "nbformat": 4,
 "nbformat_minor": 5
}
