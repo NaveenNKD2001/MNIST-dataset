{
 "cells": [
  {
   "cell_type": "code",
   "execution_count": 30,
   "id": "600fa1d9",
   "metadata": {},
   "outputs": [],
   "source": [
    "import tensorflow as tf\n",
    "import numpy as np\n",
    "import pandas as pd\n",
    "from matplotlib import pyplot as plt\n",
    "import joblib"
   ]
  },
  {
   "cell_type": "code",
   "execution_count": 21,
   "id": "72781848",
   "metadata": {},
   "outputs": [],
   "source": [
    "df=pd.read_csv('mnist_test_dataset.csv')"
   ]
  },
  {
   "cell_type": "code",
   "execution_count": 22,
   "id": "7340cc20",
   "metadata": {},
   "outputs": [],
   "source": [
    "df=df.drop(['label'],axis=1)"
   ]
  },
  {
   "cell_type": "code",
   "execution_count": 38,
   "id": "252cf021",
   "metadata": {},
   "outputs": [],
   "source": [
    "row=np.random.randint(0,len(df))\n",
    "img=df.iloc[row]"
   ]
  },
  {
   "cell_type": "code",
   "execution_count": 39,
   "id": "e4ea9667",
   "metadata": {},
   "outputs": [],
   "source": [
    "def show_img(image):\n",
    "    img=np.reshape(image,(28,28))\n",
    "    plt.imshow(img)\n",
    "    plt.show()"
   ]
  },
  {
   "cell_type": "code",
   "execution_count": 40,
   "id": "8cc2e998",
   "metadata": {},
   "outputs": [
    {
     "data": {
      "image/png": "[encoded data removed]",
      "text/plain": [
       "<Figure size 640x480 with 1 Axes>"
      ]
     },
     "metadata": {},
     "output_type": "display_data"
    }
   ],
   "source": [
    "show_img(img)"
   ]
  },
  {
   "cell_type": "code",
   "execution_count": 41,
   "id": "819e1ac4",
   "metadata": {},
   "outputs": [],
   "source": [
    "def predicted_value(image):\n",
    "    #from the mnist_build file we can say that the ANN model works best with most accuracy\n",
    "    model=joblib.load('models/model_ann.joblib')\n",
    "    image_tensor=tf.convert_to_tensor([image],dtype=tf.float32)\n",
    "    pred = np.argmax(model.predict(image_tensor),axis=1)\n",
    "    return pred"
   ]
  },
  {
   "cell_type": "code",
   "execution_count": 42,
   "id": "18e10324",
   "metadata": {},
   "outputs": [
    {
     "name": "stdout",
     "output_type": "stream",
     "text": [
      "1/1 [==============================] - 0s 70ms/step\n"
     ]
    }
   ],
   "source": [
    "result=predicted_value(img)"
   ]
  },
  {
   "cell_type": "code",
   "execution_count": 43,
   "id": "19887337",
   "metadata": {},
   "outputs": [
    {
     "name": "stdout",
     "output_type": "stream",
     "text": [
      "[6]\n"
     ]
    }
   ],
   "source": [
    "print(result)"
   ]
  },
  {
   "cell_type": "code",
   "execution_count": null,
   "id": "69683eda",
   "metadata": {},
   "outputs": [],
   "source": []
  }
 ],
 "metadata": {
  "kernelspec": {
   "display_name": "Python 3 (ipykernel)",
   "language": "python",
   "name": "python3"
  },
  "language_info": {
   "codemirror_mode": {
    "name": "ipython",
    "version": 3
   },
   "file_extension": ".py",
   "mimetype": "text/x-python",
   "name": "python",
   "nbconvert_exporter": "python",
   "pygments_lexer": "ipython3",
   "version": "3.11.5"
  }
 },
 "nbformat": 4,
 "nbformat_minor": 5
}
